{
 "cells": [
  {
   "cell_type": "code",
   "execution_count": 29,
   "metadata": {},
   "outputs": [
    {
     "name": "stdout",
     "output_type": "stream",
     "text": [
      "243\n",
      "564\n",
      "807\n",
      "[8, 0, 7]\n",
      "None\n"
     ]
    }
   ],
   "source": [
    "#Soal 3\n",
    "l1 = [2, 4, 3]\n",
    "l2 = [5, 6, 4]\n",
    "\n",
    "# output:\n",
    "# [7, 0, 8]\n",
    "\n",
    "# convert list of int to str\n",
    "new_l1 = int(''.join(map(str, l1))) \n",
    "print(new_l1)\n",
    "\n",
    "new_l2 = int(''.join(map(str, l2))) \n",
    "print(new_l2)\n",
    "\n",
    "#penjumlahan\n",
    "result = str(new_l1 + new_l2)\n",
    "print(result)\n",
    "\n",
    "#convert str to list of int\n",
    "list_result = [int(x) for x in result]\n",
    "print(list_result)\n",
    "\n",
    "#reverse result (mas udh nyoba tp ngga tau gimana )\n",
    "# new = list_result.reverse()\n",
    "# print(new)"
   ]
  }
 ],
 "metadata": {
  "kernelspec": {
   "display_name": "Python 3",
   "language": "python",
   "name": "python3"
  },
  "language_info": {
   "codemirror_mode": {
    "name": "ipython",
    "version": 3
   },
   "file_extension": ".py",
   "mimetype": "text/x-python",
   "name": "python",
   "nbconvert_exporter": "python",
   "pygments_lexer": "ipython3",
   "version": "3.9.13"
  },
  "orig_nbformat": 4
 },
 "nbformat": 4,
 "nbformat_minor": 2
}
